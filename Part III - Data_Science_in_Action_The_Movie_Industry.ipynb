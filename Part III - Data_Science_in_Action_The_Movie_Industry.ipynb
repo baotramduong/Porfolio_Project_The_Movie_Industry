{
 "cells": [
  {
   "cell_type": "markdown",
   "metadata": {
    "colab_type": "text",
    "id": "view-in-github"
   },
   "source": [
    "<a href=\"https://colab.research.google.com/github/btramduong0810/dsc-mod-1-project-v2-1-online-ds-sp-000/blob/master/Data_Science_in_Action_The_Movie_Industry.ipynb\" target=\"_parent\"><img src=\"https://colab.research.google.com/assets/colab-badge.svg\" alt=\"Open In Colab\"/></a>"
   ]
  },
  {
   "cell_type": "markdown",
   "metadata": {
    "id": "WZ0cvFXiii2I"
   },
   "source": [
    "## Final Project Submission\n",
    "\n",
    "* Student name: **BAO TRAM DUONG**\n",
    "* Student pace: **SELF-PACED DATA SCIENCE PROGRAM**\n",
    "* Scheduled project review date/time: \n",
    "* Instructor name: **JEFF HERMAN**\n",
    "* Blog post URL:\n"
   ]
  },
  {
   "cell_type": "markdown",
   "metadata": {
    "id": "3ChFAfP2rVqL"
   },
   "source": [
    "# **Part III: Table of Contents**\n",
    "\n",
    "**1.  Introduction**\n",
    "\n",
    "1.1  Business Statement\n",
    "\n",
    "**2.  Data Visualization**\n",
    "\n",
    "2.1 Budget vs Gross\n",
    "\n",
    "2.2 Genre vs. Gross\n",
    "\n",
    "2.3 Others: Source, Creative Type, Production Method vs. Gross\n",
    "\n",
    "2.4 Runtime vs. Gross\n",
    "\n",
    "2.5 Release time vs. Gross\n",
    "\n",
    "2.6 Others: Director, Writer, Critic, Publisher vs. Gross\n",
    "\n",
    "2.7 Popularity / Words of Mouth:\n",
    "\n",
    "**3. Actionable Insights**\n",
    "\n",
    "**4. Conclusion and Future Work**\n",
    "\n",
    "4.1  Summary of Findings\n",
    "\n",
    "4.2  Actionable Insights\n",
    "\n",
    "4.3  Future Works"
   ]
  },
  {
   "cell_type": "markdown",
   "metadata": {},
   "source": [
    "# **1. INTRODUCTION**"
   ]
  },
  {
   "cell_type": "markdown",
   "metadata": {},
   "source": [
    "## **1.1 Business Statement**\n",
    "\n",
    "Microsoft sees all the big companies creating original video content, and they want to get in on the fun. They have decided to create a new movie studio, but the problem is they don’t know anything about creating movies. They have hired a team of data scientist from Flatiron to help them better understand the movie industry. The team is charged with doing data analysis and creating a presentation that explores what type of films are currently doing the best at the box office. The team must then translate those findings into actionable insights that the CEO can use when deciding what type of films they should be creating.\n",
    "\n",
    "What makes a movie succesful and how do we create the next blockbuster movie that can return the highest ROI possible?\n"
   ]
  },
  {
   "cell_type": "markdown",
   "metadata": {
    "id": "Be9LjOzLt46M"
   },
   "source": [
    "# **2. DATA VISUALIZATION**"
   ]
  },
  {
   "cell_type": "code",
   "execution_count": 1,
   "metadata": {
    "scrolled": true
   },
   "outputs": [
    {
     "name": "stderr",
     "output_type": "stream",
     "text": [
      "/Users/baotramduong8/opt/anaconda3/envs/learn-env/lib/python3.6/site-packages/statsmodels/tools/_testing.py:19: FutureWarning: pandas.util.testing is deprecated. Use the functions in the public API at pandas.testing instead.\n",
      "  import pandas.util.testing as tm\n"
     ]
    }
   ],
   "source": [
    "import pandas as pd\n",
    "import numpy as np\n",
    "import seaborn as sns\n",
    "import matplotlib.pyplot as plt\n",
    "%matplotlib inline"
   ]
  },
  {
   "cell_type": "markdown",
   "metadata": {},
   "source": [
    "# 3. ACTIONABLE INSIGHTS"
   ]
  },
  {
   "cell_type": "markdown",
   "metadata": {
    "id": "8DS3ghCauGnV"
   },
   "source": [
    "# **4. CONCLUSION & FUTURE WORKS**"
   ]
  },
  {
   "cell_type": "markdown",
   "metadata": {
    "id": "UdcVRalIuAf-"
   },
   "source": [
    "**Future works:**\n",
    "\n",
    "Star quality, quality of script\n",
    "\n",
    "\n",
    "There are other factors such as star quality, quality of script, special effects, marketing campaign, popularity of the film preceding it (if it's a sequel), competition or lack thereof, competition from non-movie events such as weather or news and sport events. \n",
    "\n",
    "Director and writer are also interesting to look at.\n",
    "\n",
    "Movie researchers has also found that critics have a dual role, where they both influence consumers' movie choice and predict box office performance by reflecting moviegoers' tastes. Unfortunately we won't be investigating these features as they will take up extra time and are all outside the scope of this project."
   ]
  },
  {
   "cell_type": "code",
   "execution_count": null,
   "metadata": {},
   "outputs": [],
   "source": []
  }
 ],
 "metadata": {
  "colab": {
   "authorship_tag": "ABX9TyOkYO26z2J/Ac1sGQ8pM0gh",
   "collapsed_sections": [],
   "include_colab_link": true,
   "name": "Data Science in Action: The Movie Industry.ipynb",
   "provenance": [],
   "toc_visible": true
  },
  "kernelspec": {
   "display_name": "learn-env",
   "language": "python",
   "name": "learn-env"
  },
  "language_info": {
   "codemirror_mode": {
    "name": "ipython",
    "version": 3
   },
   "file_extension": ".py",
   "mimetype": "text/x-python",
   "name": "python",
   "nbconvert_exporter": "python",
   "pygments_lexer": "ipython3",
   "version": "3.6.9"
  }
 },
 "nbformat": 4,
 "nbformat_minor": 1
}
