{
 "cells": [
  {
   "cell_type": "markdown",
   "metadata": {
    "colab_type": "text",
    "id": "view-in-github"
   },
   "source": [
    "<a href=\"https://colab.research.google.com/github/btramduong0810/dsc-mod-1-project-v2-1-online-ds-sp-000/blob/master/Data_Science_in_Action_The_Movie_Industry.ipynb\" target=\"_parent\"><img src=\"https://colab.research.google.com/assets/colab-badge.svg\" alt=\"Open In Colab\"/></a>"
   ]
  },
  {
   "cell_type": "markdown",
   "metadata": {
    "id": "WZ0cvFXiii2I"
   },
   "source": [
    "## Final Project Submission\n",
    "\n",
    "* Student name: **BAO TRAM DUONG**\n",
    "* Student pace: **SELF-PACED DATA SCIENCE PROGRAM**\n",
    "* Scheduled project review date/time: \n",
    "* Instructor name: **JEFF HERMAN**\n",
    "* Blog post URL:\n"
   ]
  },
  {
   "cell_type": "markdown",
   "metadata": {
    "id": "3ChFAfP2rVqL"
   },
   "source": [
    "# **Part III: Table of Contents**\n",
    "\n",
    "**1.  Introduction**\n",
    "\n",
    "1.1  Business Statement\n",
    "\n",
    "**2.  Data Visualization**\n",
    "\n",
    "2.1 Budget vs Gross\n",
    "\n",
    "2.2 Genre vs. Gross\n",
    "\n",
    "2.3 Others: Source, Creative Type, Production Method vs. Gross\n",
    "\n",
    "2.4 Runtime vs. Gross\n",
    "\n",
    "2.5 Release time vs. Gross\n",
    "\n",
    "2.6 Others: Director, Writer, Critic, Publisher vs. Gross\n",
    "\n",
    "2.7 Popularity / Words of Mouth:\n",
    "\n",
    "**3. Actionable Insights**\n",
    "\n",
    "**4. Conclusion and Future Work**\n",
    "\n",
    "4.1  Summary of Findings\n",
    "\n",
    "4.2  Actionable Insights\n",
    "\n",
    "4.3  Future Works"
   ]
  },
  {
   "cell_type": "markdown",
   "metadata": {},
   "source": [
    "# **1. INTRODUCTION**"
   ]
  },
  {
   "cell_type": "markdown",
   "metadata": {},
   "source": [
    "## **1.1 Business Statement**\n",
    "\n",
    "Microsoft sees all the big companies creating original video content, and they want to get in on the fun. They have decided to create a new movie studio, but the problem is they don’t know anything about creating movies. They have hired a team of data scientist from Flatiron to help them better understand the movie industry. The team is charged with doing data analysis and creating a presentation that explores what type of films are currently doing the best at the box office. The team must then translate those findings into actionable insights that the CEO can use when deciding what type of films they should be creating.\n",
    "\n",
    "What makes a movie succesful and how do we create the next blockbuster movie that can return the highest ROI possible?\n"
   ]
  },
  {
   "cell_type": "markdown",
   "metadata": {
    "id": "Be9LjOzLt46M"
   },
   "source": [
    "# **2. DATA VISUALIZATION**"
   ]
  },
  {
   "cell_type": "markdown",
   "metadata": {},
   "source": [
    "## Display the full dataset"
   ]
  },
  {
   "cell_type": "code",
   "execution_count": 35,
   "metadata": {
    "scrolled": true
   },
   "outputs": [],
   "source": [
    "import pandas as pd\n",
    "import numpy as np\n",
    "import seaborn as sns\n",
    "import matplotlib.pyplot as plt\n",
    "%matplotlib inline\n",
    "\n",
    "sns.set_context(\"talk\", rc={\"lines.linewidth\": 2})\n",
    "sns.set_style('darkgrid')"
   ]
  },
  {
   "cell_type": "code",
   "execution_count": 37,
   "metadata": {
    "scrolled": false
   },
   "outputs": [
    {
     "data": {
      "text/html": [
       "<div>\n",
       "<style scoped>\n",
       "    .dataframe tbody tr th:only-of-type {\n",
       "        vertical-align: middle;\n",
       "    }\n",
       "\n",
       "    .dataframe tbody tr th {\n",
       "        vertical-align: top;\n",
       "    }\n",
       "\n",
       "    .dataframe thead th {\n",
       "        text-align: right;\n",
       "    }\n",
       "</style>\n",
       "<table border=\"1\" class=\"dataframe\">\n",
       "  <thead>\n",
       "    <tr style=\"text-align: right;\">\n",
       "      <th></th>\n",
       "      <th>movie</th>\n",
       "      <th>release_year</th>\n",
       "      <th>studio</th>\n",
       "      <th>language</th>\n",
       "      <th>popularity</th>\n",
       "      <th>runtime_minutes</th>\n",
       "      <th>average_rating</th>\n",
       "      <th>num_votes</th>\n",
       "      <th>release_date</th>\n",
       "      <th>genre</th>\n",
       "      <th>...</th>\n",
       "      <th>production_method</th>\n",
       "      <th>creative_type</th>\n",
       "      <th>production_budget</th>\n",
       "      <th>domestic_gross</th>\n",
       "      <th>international_gross</th>\n",
       "      <th>worldwide_gross</th>\n",
       "      <th>worldwide_profit</th>\n",
       "      <th>domestic_profit</th>\n",
       "      <th>international_profit</th>\n",
       "      <th>worldwide_profit_margin</th>\n",
       "    </tr>\n",
       "  </thead>\n",
       "  <tbody>\n",
       "    <tr>\n",
       "      <th>0</th>\n",
       "      <td>Avengers: Age of Ultron</td>\n",
       "      <td>2015</td>\n",
       "      <td>BV</td>\n",
       "      <td>en</td>\n",
       "      <td>44.383</td>\n",
       "      <td>141.0</td>\n",
       "      <td>7.3</td>\n",
       "      <td>665594</td>\n",
       "      <td>2015-05-01</td>\n",
       "      <td>Action</td>\n",
       "      <td>...</td>\n",
       "      <td>Animation/Live Action</td>\n",
       "      <td>Super Hero</td>\n",
       "      <td>365000000</td>\n",
       "      <td>459005868</td>\n",
       "      <td>937093334</td>\n",
       "      <td>1396099202</td>\n",
       "      <td>1031099202</td>\n",
       "      <td>94005868</td>\n",
       "      <td>572093334</td>\n",
       "      <td>73.855726</td>\n",
       "    </tr>\n",
       "    <tr>\n",
       "      <th>1</th>\n",
       "      <td>Avengers: Infinity War</td>\n",
       "      <td>2018</td>\n",
       "      <td>BV</td>\n",
       "      <td>en</td>\n",
       "      <td>80.773</td>\n",
       "      <td>149.0</td>\n",
       "      <td>8.5</td>\n",
       "      <td>670926</td>\n",
       "      <td>2018-04-27</td>\n",
       "      <td>Action</td>\n",
       "      <td>...</td>\n",
       "      <td>Animation/Live Action</td>\n",
       "      <td>Super Hero</td>\n",
       "      <td>300000000</td>\n",
       "      <td>678815482</td>\n",
       "      <td>1365725041</td>\n",
       "      <td>2044540523</td>\n",
       "      <td>1744540523</td>\n",
       "      <td>378815482</td>\n",
       "      <td>1065725041</td>\n",
       "      <td>85.326777</td>\n",
       "    </tr>\n",
       "    <tr>\n",
       "      <th>2</th>\n",
       "      <td>Justice League</td>\n",
       "      <td>2017</td>\n",
       "      <td>WB</td>\n",
       "      <td>en</td>\n",
       "      <td>34.953</td>\n",
       "      <td>120.0</td>\n",
       "      <td>6.5</td>\n",
       "      <td>329135</td>\n",
       "      <td>2017-11-17</td>\n",
       "      <td>Action</td>\n",
       "      <td>...</td>\n",
       "      <td>Live Action</td>\n",
       "      <td>Super Hero</td>\n",
       "      <td>300000000</td>\n",
       "      <td>229024295</td>\n",
       "      <td>426920914</td>\n",
       "      <td>655945209</td>\n",
       "      <td>355945209</td>\n",
       "      <td>-70975705</td>\n",
       "      <td>126920914</td>\n",
       "      <td>54.264473</td>\n",
       "    </tr>\n",
       "    <tr>\n",
       "      <th>3</th>\n",
       "      <td>Spectre</td>\n",
       "      <td>2015</td>\n",
       "      <td>Sony</td>\n",
       "      <td>en</td>\n",
       "      <td>30.318</td>\n",
       "      <td>148.0</td>\n",
       "      <td>6.8</td>\n",
       "      <td>352504</td>\n",
       "      <td>2015-11-06</td>\n",
       "      <td>Action</td>\n",
       "      <td>...</td>\n",
       "      <td>Live Action</td>\n",
       "      <td>Contemporary Fiction</td>\n",
       "      <td>300000000</td>\n",
       "      <td>200074175</td>\n",
       "      <td>679426585</td>\n",
       "      <td>879500760</td>\n",
       "      <td>579500760</td>\n",
       "      <td>-99925825</td>\n",
       "      <td>379426585</td>\n",
       "      <td>65.889740</td>\n",
       "    </tr>\n",
       "    <tr>\n",
       "      <th>4</th>\n",
       "      <td>The Dark Knight Rises</td>\n",
       "      <td>2012</td>\n",
       "      <td>WB</td>\n",
       "      <td>en</td>\n",
       "      <td>26.220</td>\n",
       "      <td>164.0</td>\n",
       "      <td>8.4</td>\n",
       "      <td>1387769</td>\n",
       "      <td>2012-07-20</td>\n",
       "      <td>Action</td>\n",
       "      <td>...</td>\n",
       "      <td>Live Action</td>\n",
       "      <td>Super Hero</td>\n",
       "      <td>230000000</td>\n",
       "      <td>448139099</td>\n",
       "      <td>634089008</td>\n",
       "      <td>1082228107</td>\n",
       "      <td>852228107</td>\n",
       "      <td>218139099</td>\n",
       "      <td>404089008</td>\n",
       "      <td>78.747549</td>\n",
       "    </tr>\n",
       "  </tbody>\n",
       "</table>\n",
       "<p>5 rows × 21 columns</p>\n",
       "</div>"
      ],
      "text/plain": [
       "                     movie  release_year studio language  popularity  \\\n",
       "0  Avengers: Age of Ultron          2015     BV       en      44.383   \n",
       "1   Avengers: Infinity War          2018     BV       en      80.773   \n",
       "2           Justice League          2017     WB       en      34.953   \n",
       "3                  Spectre          2015   Sony       en      30.318   \n",
       "4    The Dark Knight Rises          2012     WB       en      26.220   \n",
       "\n",
       "   runtime_minutes  average_rating  num_votes release_date   genre  ...  \\\n",
       "0            141.0             7.3     665594   2015-05-01  Action  ...   \n",
       "1            149.0             8.5     670926   2018-04-27  Action  ...   \n",
       "2            120.0             6.5     329135   2017-11-17  Action  ...   \n",
       "3            148.0             6.8     352504   2015-11-06  Action  ...   \n",
       "4            164.0             8.4    1387769   2012-07-20  Action  ...   \n",
       "\n",
       "       production_method         creative_type production_budget  \\\n",
       "0  Animation/Live Action            Super Hero         365000000   \n",
       "1  Animation/Live Action            Super Hero         300000000   \n",
       "2            Live Action            Super Hero         300000000   \n",
       "3            Live Action  Contemporary Fiction         300000000   \n",
       "4            Live Action            Super Hero         230000000   \n",
       "\n",
       "   domestic_gross  international_gross  worldwide_gross  worldwide_profit  \\\n",
       "0       459005868            937093334       1396099202        1031099202   \n",
       "1       678815482           1365725041       2044540523        1744540523   \n",
       "2       229024295            426920914        655945209         355945209   \n",
       "3       200074175            679426585        879500760         579500760   \n",
       "4       448139099            634089008       1082228107         852228107   \n",
       "\n",
       "   domestic_profit  international_profit  worldwide_profit_margin  \n",
       "0         94005868             572093334                73.855726  \n",
       "1        378815482            1065725041                85.326777  \n",
       "2        -70975705             126920914                54.264473  \n",
       "3        -99925825             379426585                65.889740  \n",
       "4        218139099             404089008                78.747549  \n",
       "\n",
       "[5 rows x 21 columns]"
      ]
     },
     "execution_count": 37,
     "metadata": {},
     "output_type": "execute_result"
    }
   ],
   "source": [
    "#read data\n",
    "full_df = pd.read_csv('full_df', index_col=0)\n",
    "\n",
    "#preview\n",
    "full_df.head()"
   ]
  },
  {
   "cell_type": "markdown",
   "metadata": {},
   "source": [
    "## Question 1: Is there a correlation between production budget and profit? If so, how much should Microsoft invest into production to get the highest ROI?"
   ]
  },
  {
   "cell_type": "markdown",
   "metadata": {},
   "source": [
    "We will analyze Production Budget in regards to Profit "
   ]
  },
  {
   "cell_type": "code",
   "execution_count": 54,
   "metadata": {},
   "outputs": [
    {
     "data": {
      "text/plain": [
       "<matplotlib.axes._subplots.AxesSubplot at 0x1a1a466048>"
      ]
     },
     "execution_count": 54,
     "metadata": {},
     "output_type": "execute_result"
    },
    {
     "data": {
      "image/png": "[encoded data removed]",
      "text/plain": [
       "<Figure size 432x288 with 1 Axes>"
      ]
     },
     "metadata": {},
     "output_type": "display_data"
    }
   ],
   "source": [
    "#let's check out production_budget distribution\n",
    "y_values = full_df['production_budget'].sort_values(ascending=False)\n",
    "\n",
    "sns.distplot(y_values)"
   ]
  },
  {
   "cell_type": "markdown",
   "metadata": {},
   "source": [
    "We are interested in worldwide_profit and worldwide_profit_margin as this reflect the total profit earned. However, keep in mind that this only reflect box office earning and exclude merchandise sales, DVD sales and other streaming rights."
   ]
  },
  {
   "cell_type": "code",
   "execution_count": 17,
   "metadata": {
    "scrolled": true
   },
   "outputs": [
    {
     "data": {
      "text/plain": [
       "count           625.000000\n",
       "mean      179073829.838400\n",
       "std       232771780.749692\n",
       "min       -63357202.000000\n",
       "25%        41134059.000000\n",
       "50%        91792744.000000\n",
       "75%       211979256.000000\n",
       "max      1744540523.000000\n",
       "Name: worldwide_profit, dtype: object"
      ]
     },
     "execution_count": 17,
     "metadata": {},
     "output_type": "execute_result"
    }
   ],
   "source": [
    "#remove scientific notation\n",
    "full_df['worldwide_profit'].describe().apply(lambda x: format(x, 'f'))"
   ]
  },
  {
   "cell_type": "code",
   "execution_count": 18,
   "metadata": {},
   "outputs": [
    {
     "data": {
      "text/plain": [
       "count     625.000000\n",
       "mean       63.579227\n",
       "std        26.790344\n",
       "min      -102.781191\n",
       "25%        54.088913\n",
       "50%        69.632337\n",
       "75%        80.749221\n",
       "max        99.759941\n",
       "Name: worldwide_profit_margin, dtype: object"
      ]
     },
     "execution_count": 18,
     "metadata": {},
     "output_type": "execute_result"
    }
   ],
   "source": [
    "#remove scientific notation\n",
    "full_df['worldwide_profit_margin'].describe().apply(lambda x: format(x, 'f'))"
   ]
  },
  {
   "cell_type": "code",
   "execution_count": null,
   "metadata": {},
   "outputs": [],
   "source": [
    "#distribution of worlwide_gross"
   ]
  },
  {
   "cell_type": "markdown",
   "metadata": {},
   "source": [
    "## Question 2: What kind of movie contents, in term of genre, source, creative type, production method, perform the best?"
   ]
  },
  {
   "cell_type": "markdown",
   "metadata": {},
   "source": [
    "Let's first investigate Genre in regards to Profit"
   ]
  },
  {
   "cell_type": "markdown",
   "metadata": {},
   "source": [
    "Now we are taking a look at Source Creative Type, Production Method in correlation with Profit"
   ]
  },
  {
   "cell_type": "code",
   "execution_count": null,
   "metadata": {},
   "outputs": [],
   "source": []
  },
  {
   "cell_type": "markdown",
   "metadata": {},
   "source": [
    "## Question 3: When is the best time of year to release a movie, in term of month and day of the week?"
   ]
  },
  {
   "cell_type": "markdown",
   "metadata": {},
   "source": [
    "To answer this question, let's look at Release Time"
   ]
  },
  {
   "cell_type": "code",
   "execution_count": null,
   "metadata": {},
   "outputs": [],
   "source": []
  },
  {
   "cell_type": "code",
   "execution_count": null,
   "metadata": {},
   "outputs": [],
   "source": []
  },
  {
   "cell_type": "markdown",
   "metadata": {},
   "source": [
    "Let's look at how these movie perform at different lease months:"
   ]
  },
  {
   "cell_type": "markdown",
   "metadata": {},
   "source": [
    "## Question 4: Can popularity or words of mouth, in term of rating and number of votes, affect the performance of a movie?"
   ]
  },
  {
   "cell_type": "markdown",
   "metadata": {},
   "source": [
    "Let's look at Rating, Number of Votes (num_votes), and also Studio (studio):"
   ]
  },
  {
   "cell_type": "code",
   "execution_count": null,
   "metadata": {},
   "outputs": [],
   "source": []
  },
  {
   "cell_type": "code",
   "execution_count": null,
   "metadata": {},
   "outputs": [],
   "source": []
  },
  {
   "cell_type": "markdown",
   "metadata": {},
   "source": [
    "## Question 5: Is runtime a factor in determining the success of a movie?"
   ]
  },
  {
   "cell_type": "markdown",
   "metadata": {},
   "source": [
    "Finally, let's look at Runtime (runtime_minutes)"
   ]
  },
  {
   "cell_type": "code",
   "execution_count": null,
   "metadata": {},
   "outputs": [],
   "source": []
  },
  {
   "cell_type": "markdown",
   "metadata": {},
   "source": [
    "## Extra: Is there one single best studio?"
   ]
  },
  {
   "cell_type": "code",
   "execution_count": 42,
   "metadata": {
    "scrolled": true
   },
   "outputs": [
    {
     "data": {
      "text/plain": [
       "Uni.       0.1552\n",
       "Fox        0.1392\n",
       "WB         0.1152\n",
       "BV         0.0896\n",
       "Sony       0.0800\n",
       "Par.       0.0800\n",
       "WB (NL)    0.0640\n",
       "LGF        0.0512\n",
       "LG/S       0.0304\n",
       "SGem       0.0272\n",
       "Name: studio, dtype: float64"
      ]
     },
     "execution_count": 42,
     "metadata": {},
     "output_type": "execute_result"
    }
   ],
   "source": [
    "#let's see how many studio there are and pick 10 best ones\n",
    "y_values = full_df['studio'].value_counts(normalize=True, ascending=False)[:10]\n",
    "\n",
    "#pick 10 best one\n",
    "y_values[:10]"
   ]
  },
  {
   "cell_type": "code",
   "execution_count": 44,
   "metadata": {
    "scrolled": true
   },
   "outputs": [
    {
     "data": {
      "text/plain": [
       "Text(0, 0.5, 'Percentage %')"
      ]
     },
     "execution_count": 44,
     "metadata": {},
     "output_type": "execute_result"
    },
    {
     "data": {
      "image/png": "[encoded data removed]",
      "text/plain": [
       "<Figure size 720x576 with 1 Axes>"
      ]
     },
     "metadata": {},
     "output_type": "display_data"
    }
   ],
   "source": [
    "#plot\n",
    "x_values = y_values.index\n",
    "plt.figure(figsize = (10,8))\n",
    "sns.barplot(x_values, y_values)\n",
    "plt.title('Studio Popularity')\n",
    "plt.xlabel('Studio Names')\n",
    "plt.ylabel('Percentage %')"
   ]
  },
  {
   "cell_type": "markdown",
   "metadata": {},
   "source": [
    "## Extra: What is the most popular language?"
   ]
  },
  {
   "cell_type": "code",
   "execution_count": 48,
   "metadata": {},
   "outputs": [
    {
     "data": {
      "text/plain": [
       "en    1.0\n",
       "Name: language, dtype: float64"
      ]
     },
     "execution_count": 48,
     "metadata": {},
     "output_type": "execute_result"
    }
   ],
   "source": [
    "#check to see the most 10 popular languages\n",
    "y_values = full_df['language'].value_counts(normalize=True)[:10]\n",
    "x_values = y_values.index\n",
    "\n",
    "y_values #looks like there is only one"
   ]
  },
  {
   "cell_type": "code",
   "execution_count": 49,
   "metadata": {},
   "outputs": [
    {
     "data": {
      "text/plain": [
       "Text(0, 0.5, 'Percentage %')"
      ]
     },
     "execution_count": 49,
     "metadata": {},
     "output_type": "execute_result"
    },
    {
     "data": {
      "image/png": "[encoded data removed]",
      "text/plain": [
       "<Figure size 720x576 with 1 Axes>"
      ]
     },
     "metadata": {},
     "output_type": "display_data"
    }
   ],
   "source": [
    "#plot\n",
    "x_values = y_values.index\n",
    "plt.figure(figsize = (10,8))\n",
    "sns.barplot(x_values, y_values)\n",
    "plt.title('Language Popularity')\n",
    "plt.xlabel('Languages')\n",
    "plt.ylabel('Percentage %')"
   ]
  },
  {
   "cell_type": "markdown",
   "metadata": {},
   "source": [
    "# 3. ACTIONABLE INSIGHTS"
   ]
  },
  {
   "cell_type": "markdown",
   "metadata": {
    "id": "8DS3ghCauGnV"
   },
   "source": [
    "# **4. CONCLUSION & FUTURE WORKS**"
   ]
  },
  {
   "cell_type": "markdown",
   "metadata": {
    "id": "UdcVRalIuAf-"
   },
   "source": [
    "**Future works:**\n",
    "\n",
    "There are other factors such as star quality, quality of script, special effects, marketing campaign, popularity of the film preceding it (if it's a sequel), competition or lack thereof, competition from non-movie events such as weather or news and sport events. \n",
    "\n",
    "Director and writer are also interesting to look at.\n",
    "\n",
    "Movie researchers has also found that critics have a dual role, where they both influence consumers' movie choice and predict box office performance by reflecting moviegoers' tastes. Unfortunately we won't be investigating these features as they will take up extra time and are all outside the scope of this project."
   ]
  },
  {
   "cell_type": "code",
   "execution_count": null,
   "metadata": {},
   "outputs": [],
   "source": []
  }
 ],
 "metadata": {
  "colab": {
   "authorship_tag": "ABX9TyOkYO26z2J/Ac1sGQ8pM0gh",
   "collapsed_sections": [],
   "include_colab_link": true,
   "name": "Data Science in Action: The Movie Industry.ipynb",
   "provenance": [],
   "toc_visible": true
  },
  "kernelspec": {
   "display_name": "learn-env",
   "language": "python",
   "name": "learn-env"
  },
  "language_info": {
   "codemirror_mode": {
    "name": "ipython",
    "version": 3
   },
   "file_extension": ".py",
   "mimetype": "text/x-python",
   "name": "python",
   "nbconvert_exporter": "python",
   "pygments_lexer": "ipython3",
   "version": "3.6.9"
  }
 },
 "nbformat": 4,
 "nbformat_minor": 1
}
