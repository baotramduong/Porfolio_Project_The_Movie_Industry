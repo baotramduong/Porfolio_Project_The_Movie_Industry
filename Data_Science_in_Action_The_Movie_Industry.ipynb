{
  "nbformat": 4,
  "nbformat_minor": 0,
  "metadata": {
    "colab": {
      "name": "Data Science in Action: The Movie Industry.ipynb",
      "provenance": [],
      "collapsed_sections": [],
      "toc_visible": true,
      "authorship_tag": "ABX9TyORVY0xmcRqVMibPVuD6Twh",
      "include_colab_link": true
    },
    "kernelspec": {
      "name": "python3",
      "display_name": "Python 3"
    }
  },
  "cells": [
    {
      "cell_type": "markdown",
      "metadata": {
        "id": "view-in-github",
        "colab_type": "text"
      },
      "source": [
        "<a href=\"https://colab.research.google.com/github/btramduong0810/dsc-mod-1-project-v2-1-online-ds-sp-000/blob/master/Data_Science_in_Action_The_Movie_Industry.ipynb\" target=\"_parent\"><img src=\"https://colab.research.google.com/assets/colab-badge.svg\" alt=\"Open In Colab\"/></a>"
      ]
    },
    {
      "cell_type": "markdown",
      "metadata": {
        "id": "WZ0cvFXiii2I"
      },
      "source": [
        "## Final Project Submission\n",
        "\n",
        "* Student name: **BAO TRAM DUONG**\n",
        "* Student pace: **SELF-PACED DATA SCIENCE PROGRAM**\n",
        "* Scheduled project review date/time: \n",
        "* Instructor name: **JEFF HERMAN**\n",
        "* Blog post URL:\n"
      ]
    },
    {
      "cell_type": "markdown",
      "metadata": {
        "id": "3ChFAfP2rVqL"
      },
      "source": [
        "# **Table of Contents**\n",
        "\n",
        "**1.  Introduction**\n",
        "\n",
        "1.1  Problem Statement\n",
        "\n",
        "1.2  The Approach\n",
        "\n",
        "1.3  Data Sources\n",
        "\n",
        "1.4  Methodology\n",
        "\n",
        "**2.  Data Preparation**\n",
        "\n",
        "2.1  Data reading\n",
        "\n",
        "2.2a  Data cleaning: tn_movie_budgets\n",
        "\n",
        "2.2b  Data cleaning: imdb_title_basics\n",
        "\n",
        "2.2c  Joining the two dataframes\n",
        "\n",
        "2.3  Data cleaning\n",
        "\n",
        "**3.  Data Visualization**\n",
        "\n",
        "3.1  Budget\n",
        "\n",
        "3.2  Runtime\n",
        "\n",
        "3.3  Genre\n",
        "\n",
        "3.4a  Release time: date\n",
        "\n",
        "3.4b  Release time: month\n",
        "\n",
        "3.4c  Release time: day\n",
        "\n",
        "**4.  Conclusion and Future Work**\n",
        "\n",
        "4.1  Summary of Findings\n",
        "\n",
        "4.2  Actionable Insights\n",
        "\n",
        "4.3  Future Works"
      ]
    },
    {
      "cell_type": "markdown",
      "metadata": {
        "id": "d6NCmuuJtxAD"
      },
      "source": [
        "## **1. INTRODUCTION**"
      ]
    },
    {
      "cell_type": "markdown",
      "metadata": {
        "id": "dKt6z1OfsPOt"
      },
      "source": [
        "### **1.1 Business Statement**\n",
        "\n",
        "Microsoft sees all the big companies creating original video content, and they want to get in on the fun. They have decided to create a new movie studio, but the problem is they don’t know anything about creating movies. They have hired a team of data scientist from Flatiron to help them better understand the movie industry. The team is charged with doing data analysis and creating a presentation that explores what type of films are currently doing the best at the box office. The team must then translate those findings into actionable insights that the CEO can use when deciding what type of films they should be creating.\n",
        "\n",
        "What makes a movie succesful and how do we create the next blockbuster movie that can return the highest ROI possible?\n"
      ]
    },
    {
      "cell_type": "markdown",
      "metadata": {
        "id": "RM_vzG95sW9S"
      },
      "source": [
        "### **1.2 Our Approach**\n",
        "\n",
        "We will first investigate the notion of profit and profit margin within the movie industry.\n",
        "\n",
        "We will then explore the characteristics of a successful movie and seek to answer the following questions:\n",
        "\n",
        "What budget should be allocated?\n",
        "What movie genres are currently performing best?\n",
        "What is the optimal movie runtime\n",
        "What should the release date be to maximise success?\n",
        "Finally, we will explore two particular scenarios:\n",
        "\n",
        "Online distribution of movies, examining Netflix original movies\n",
        "Movies based on video games, as the Company has existing franchises it could leverage"
      ]
    },
    {
      "cell_type": "markdown",
      "metadata": {
        "id": "efUOydSOsltK"
      },
      "source": [
        "**1.3 Data Sources**\n",
        "\n",
        "Data for this project was obtained from the following repository and also saved in ZippedData folder in this repository.\n",
        "\n",
        "The data comes from:\n",
        "\n",
        "1.   Box Office Mojo\n",
        "2.   IMDB\n",
        "3.   Rotten Tomatoes\n",
        "4.   TheMovieDB.org\n"
      ]
    },
    {
      "cell_type": "markdown",
      "metadata": {
        "id": "vl0cYQMPs8kY"
      },
      "source": [
        "**1.4 Methodology**\n",
        "\n",
        "Data Cleaning and Preparation using Pandas and Numpy packages:\n",
        "\n",
        "1. Importing libraries\n",
        "\n",
        "2. Reading and cleaning provided data\n",
        "\n",
        "3. Dealing with missing values\n",
        "\n",
        "4. Joining datasets to create one main dataframe and save it as a seperated file\n",
        "\n",
        "Data Visulization using Matplotlib and Seaborn packages:\n",
        "\n",
        "1. Creating visualisations \n",
        "\n",
        "2. Drawing conclusions from results\n",
        "\n",
        "3. Providing insights and recommendations"
      ]
    },
    {
      "cell_type": "markdown",
      "metadata": {
        "id": "a3UD8rWytodA"
      },
      "source": [
        "## **2. DATA PREPARATION**"
      ]
    },
    {
      "cell_type": "code",
      "metadata": {
        "id": "xgnVyt1nijx_"
      },
      "source": [
        "import pandas as pd\n",
        "import numpy as np\n",
        "import matplotlib.pyplot as plt\n",
        "%matplotlib inline"
      ],
      "execution_count": 1,
      "outputs": []
    },
    {
      "cell_type": "code",
      "metadata": {
        "id": "cCNO2N4_PubS"
      },
      "source": [
        ""
      ],
      "execution_count": null,
      "outputs": []
    },
    {
      "cell_type": "markdown",
      "metadata": {
        "id": "Be9LjOzLt46M"
      },
      "source": [
        "# **3. DATA VISUALIZATION**"
      ]
    },
    {
      "cell_type": "markdown",
      "metadata": {
        "id": "8DS3ghCauGnV"
      },
      "source": [
        "# **4. CONCLUSION & FUTURE WORKS**"
      ]
    },
    {
      "cell_type": "code",
      "metadata": {
        "id": "UdcVRalIuAf-"
      },
      "source": [
        ""
      ],
      "execution_count": null,
      "outputs": []
    }
  ]
}