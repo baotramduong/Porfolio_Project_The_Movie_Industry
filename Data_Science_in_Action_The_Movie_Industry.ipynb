{
  "nbformat": 4,
  "nbformat_minor": 0,
  "metadata": {
    "colab": {
      "name": "Data Science in Action: The Movie Industry.ipynb",
      "provenance": [],
      "collapsed_sections": [],
      "toc_visible": true,
      "authorship_tag": "ABX9TyOPmAQx0hEspb+zE8HEAHYM",
      "include_colab_link": true
    },
    "kernelspec": {
      "name": "python3",
      "display_name": "Python 3"
    }
  },
  "cells": [
    {
      "cell_type": "markdown",
      "metadata": {
        "id": "view-in-github",
        "colab_type": "text"
      },
      "source": [
        "<a href=\"https://colab.research.google.com/github/btramduong0810/dsc-mod-1-project-v2-1-online-ds-sp-000/blob/master/Data_Science_in_Action_The_Movie_Industry.ipynb\" target=\"_parent\"><img src=\"https://colab.research.google.com/assets/colab-badge.svg\" alt=\"Open In Colab\"/></a>"
      ]
    },
    {
      "cell_type": "markdown",
      "metadata": {
        "id": "WZ0cvFXiii2I"
      },
      "source": [
        "## Final Project Submission\n",
        "\n",
        "* Student name: **BAO TRAM DUONG**\n",
        "* Student pace: **SELF-PACED DATA SCIENCE PROGRAM**\n",
        "* Scheduled project review date/time: \n",
        "* Instructor name: **JEFF HERMAN**\n",
        "* Blog post URL:\n"
      ]
    },
    {
      "cell_type": "markdown",
      "metadata": {
        "id": "3ChFAfP2rVqL"
      },
      "source": [
        "# **Table of Contents**\n",
        "\n",
        "**1.  Introduction**\n",
        "\n",
        "1.1  Problem Statement\n",
        "\n",
        "1.2  Our Approach\n",
        "\n",
        "1.3  Data Sources\n",
        "\n",
        "1.4  Methodology\n",
        "\n",
        "**2.  Data Preparation**\n",
        "\n",
        "2.1  Data provided\n",
        "\n",
        "2.1.1  Data reading\n",
        "\n",
        "2.1.2  Data cleaning: tn_movie_budgets\n",
        "\n",
        "2.1.3  Data cleaning: imdb_title_basics\n",
        "\n",
        "2.1.4  Joining the two dataframes\n",
        "\n",
        "2.2.2  Data cleaning\n",
        "\n",
        "**3.  Data Visualization**\n",
        "\n",
        "3.1  Number of movies released\n",
        "\n",
        "3.2  Profit and Profit Margin\n",
        "\n",
        "3.3  Impact of Budget\n",
        "\n",
        "3.4  Runtime\n",
        "\n",
        "3.5  Genre\n",
        "\n",
        "3.6  Release date\n",
        "\n",
        "3.6.1  Release month\n",
        "\n",
        "3.6.2  Release day\n",
        "\n",
        "3.7  Correlations\n",
        "\n",
        "**4.  Conclusion and Future Work**\n",
        "\n",
        "4.1  Summary of Findings\n",
        "\n",
        "4.2  Actionable Insights\n",
        "\n",
        "4.3  Future Work"
      ]
    },
    {
      "cell_type": "markdown",
      "metadata": {
        "id": "d6NCmuuJtxAD"
      },
      "source": [
        "## **1. INTRODUCTION**"
      ]
    },
    {
      "cell_type": "markdown",
      "metadata": {
        "id": "dKt6z1OfsPOt"
      },
      "source": [
        "### **1.1 Business Statement**\n",
        "\n",
        "In January 2020, Microsoft Inc. (\"the Company\") decides to enter the movie industry and creates a movie studio. The company approaches consultancy XYZ to provide a data-driven understanding of the industry and characteristics of a successful movie.\n",
        "\n",
        "The Company is after actionable insights to shape their new venture.\n"
      ]
    },
    {
      "cell_type": "markdown",
      "metadata": {
        "id": "RM_vzG95sW9S"
      },
      "source": [
        "### **1.2 Our Approach**\n",
        "\n",
        "We will first investigate the notion of profit and profit margin within the movie industry.\n",
        "\n",
        "We will then explore the characteristics of a successful movie and seek to answer the following questions:\n",
        "\n",
        "What budget should be allocated?\n",
        "What movie genres are currently performing best?\n",
        "What is the optimal movie runtime\n",
        "What should the release date be to maximise success?\n",
        "Finally, we will explore two particular scenarios:\n",
        "\n",
        "Online distribution of movies, examining Netflix original movies\n",
        "Movies based on video games, as the Company has existing franchises it could leverage"
      ]
    },
    {
      "cell_type": "markdown",
      "metadata": {
        "id": "efUOydSOsltK"
      },
      "source": [
        "**1.3 Data Sources**\n",
        "\n",
        "Data for this project was obtained from the following repository and also saved in ZippedData folder in this repository.\n",
        "\n",
        "The data comes from:\n",
        "\n",
        "1.   Box Office Mojo\n",
        "2.   IMDB\n",
        "3.   Rotten Tomatoes\n",
        "4.   TheMovieDB.org\n"
      ]
    },
    {
      "cell_type": "markdown",
      "metadata": {
        "id": "vl0cYQMPs8kY"
      },
      "source": [
        "**1.4 Methodology**\n",
        "\n",
        "Data Cleaning and Preparation using Pandas and Numpy packages:\n",
        "\n",
        "1. Importing libraries\n",
        "\n",
        "2. Reading and cleaning provided data\n",
        "\n",
        "3. Dealing with missing values\n",
        "\n",
        "4. Joining datasets to create one main dataframe and save it as a seperated file\n",
        "\n",
        "Data Visulization using Matplotlib and Seaborn packages:\n",
        "\n",
        "1. Creating visualisations \n",
        "\n",
        "2. Drawing conclusions from results\n",
        "\n",
        "3. Providing insights and recommendations"
      ]
    },
    {
      "cell_type": "markdown",
      "metadata": {
        "id": "a3UD8rWytodA"
      },
      "source": [
        "## **2. DATA PREPARATION**"
      ]
    },
    {
      "cell_type": "code",
      "metadata": {
        "id": "xgnVyt1nijx_"
      },
      "source": [
        "import pandas as pd\n",
        "import numpy as np\n",
        "import matplotlib.pyplot as plt\n",
        "%matplotlib inline"
      ],
      "execution_count": 1,
      "outputs": []
    },
    {
      "cell_type": "code",
      "metadata": {
        "id": "cCNO2N4_PubS"
      },
      "source": [
        ""
      ],
      "execution_count": null,
      "outputs": []
    },
    {
      "cell_type": "markdown",
      "metadata": {
        "id": "Be9LjOzLt46M"
      },
      "source": [
        "# **3. DATA VISUALIZATION**"
      ]
    },
    {
      "cell_type": "markdown",
      "metadata": {
        "id": "8DS3ghCauGnV"
      },
      "source": [
        "# **4. CONCLUSION & FUTURE WORKS**"
      ]
    },
    {
      "cell_type": "code",
      "metadata": {
        "id": "UdcVRalIuAf-"
      },
      "source": [
        ""
      ],
      "execution_count": null,
      "outputs": []
    }
  ]
}